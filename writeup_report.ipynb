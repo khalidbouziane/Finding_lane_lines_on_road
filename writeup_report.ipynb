{
 "cells": [
  {
   "cell_type": "code",
   "execution_count": 8,
   "metadata": {
    "collapsed": true
   },
   "outputs": [],
   "source": [
    "from IPython.display import Image"
   ]
  },
  {
   "cell_type": "markdown",
   "metadata": {},
   "source": [
    "# **Finding Lane Lines on the Road**\n",
    "\n",
    "\n"
   ]
  },
  {
   "cell_type": "markdown",
   "metadata": {},
   "source": [
    "In this report I will desribe in details all steps and pipline i have use in order to accomplish this project."
   ]
  },
  {
   "cell_type": "markdown",
   "metadata": {},
   "source": [
    "#### Understanding the project"
   ]
  },
  {
   "cell_type": "markdown",
   "metadata": {},
   "source": [
    "1. Read the introduction to understand what is required\n",
    "2. First, I created the yml environment and upload all necessary files and packages to work on this project.\n",
    "3. Read in an image to have an idea of what the image look like such stats and dimensions.\n",
    " "
   ]
  },
  {
   "cell_type": "markdown",
   "metadata": {},
   "source": [
    "#### CODE "
   ]
  },
  {
   "cell_type": "markdown",
   "metadata": {},
   "source": [
    "#### Helper functions"
   ]
  },
  {
   "cell_type": "markdown",
   "metadata": {},
   "source": [
    "I used helper functions that includes:\n",
    " 1. grayscale function to convert the image to grayscale.\n",
    " 2. canny function to detect edges.\n",
    " 3. gaussian_blur funcction to suppresse noise and spurious gradients by averaging.\n",
    " 4. region_of_interest funtion to apply an omage mask.\n",
    " 5. get_slope function to separate line segments by their slope\n",
    " 6. draw_lines function. I modified the draw_lines() function by using the slope of the lines       of the polygon in such a way that if the slope is positive we will append right_x1 and         right_x2 to the right line and vice versa if the slope is negative then Averaging the         slopes of the found candidates and draw the - left and right - lanes with the defined         color and thickness on the image  . \n",
    " 7. hough_lines to find lane lines.\n",
    " 8. weighted_img the initial image with lines drawn on it."
   ]
  },
  {
   "cell_type": "markdown",
   "metadata": {},
   "source": [
    "#### Pipeline"
   ]
  },
  {
   "cell_type": "markdown",
   "metadata": {},
   "source": [
    "I called all previous functions to build an image with lane lines detected \n",
    "and specify the right parameters for each function and save all of them in test_images_output directory.\n",
    "starting by loading the image and convert it to RGB then to grayscale format using grayscale function.\n",
    "see below\n"
   ]
  },
  {
   "cell_type": "markdown",
   "metadata": {},
   "source": [
    "<img src=\"test_images_output/grayscale.jpg\",width=300,height=300>"
   ]
  },
  {
   "cell_type": "markdown",
   "metadata": {},
   "source": [
    "After a gaussian smoothing using gaussian_blur function where i chose a kernel size of 5, i created canny edge image with a low_threshold of 50 and high_treshold of 150.\n",
    "see below"
   ]
  },
  {
   "cell_type": "markdown",
   "metadata": {},
   "source": [
    "<img src=\"test_images_output/cannyedge.jpg\",width=300,height=300>"
   ]
  },
  {
   "cell_type": "markdown",
   "metadata": {},
   "source": [
    "Highlight the region of interest using the right vertices which i found them after several tries.see below\n"
   ]
  },
  {
   "cell_type": "markdown",
   "metadata": {},
   "source": [
    "<img src=\"test_images_output/ROI.jpg\",width=300,height=300>"
   ]
  },
  {
   "cell_type": "markdown",
   "metadata": {},
   "source": [
    "Run Hough on edge detected image using the following parameters:\n",
    "rho = 1\n",
    "theta = np.pi/180\n",
    "threshold = 30\n",
    "min_line_length = 50\n",
    "max_line_gap = 30\n",
    "(found the right one after several tries).\n",
    "see below"
   ]
  },
  {
   "cell_type": "markdown",
   "metadata": {},
   "source": [
    "<img src=\"test_images_output/hough.jpg\",width=300,height=300>"
   ]
  },
  {
   "cell_type": "markdown",
   "metadata": {},
   "source": [
    "Then the last step is the weighted image where we will draw lines got from houghedges on the original image using weighted_image function.see below"
   ]
  },
  {
   "cell_type": "markdown",
   "metadata": {},
   "source": [
    "<img src=\"test_images_output/weighted.jpg\",width=300,height=300>"
   ]
  },
  {
   "cell_type": "markdown",
   "metadata": {},
   "source": [
    "#### Identify potential shortcomings with my current pipeline\n",
    "\n",
    "\n"
   ]
  },
  {
   "cell_type": "markdown",
   "metadata": {},
   "source": [
    "The pipeline used to find the lane line on the road are working perfectly when it comes to a strict line, but what about if we have a curve shape or discountinued lines?\n"
   ]
  },
  {
   "cell_type": "markdown",
   "metadata": {},
   "source": [
    "#### Suggest possible improvements to my pipeline\n",
    "\n"
   ]
  },
  {
   "cell_type": "markdown",
   "metadata": {},
   "source": [
    "I think that using this approach to find lane lines is not sufficient, and maybe must be supported with \n",
    "deep learning approach to get an efficient detection of lane lines."
   ]
  },
  {
   "cell_type": "code",
   "execution_count": null,
   "metadata": {
    "collapsed": true
   },
   "outputs": [],
   "source": []
  }
 ],
 "metadata": {
  "kernelspec": {
   "display_name": "Python 3",
   "language": "python",
   "name": "python3"
  },
  "language_info": {
   "codemirror_mode": {
    "name": "ipython",
    "version": 3
   },
   "file_extension": ".py",
   "mimetype": "text/x-python",
   "name": "python",
   "nbconvert_exporter": "python",
   "pygments_lexer": "ipython3",
   "version": "3.5.2"
  },
  "widgets": {
   "state": {},
   "version": "1.1.2"
  }
 },
 "nbformat": 4,
 "nbformat_minor": 2
}
